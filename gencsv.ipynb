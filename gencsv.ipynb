{
 "cells": [
  {
   "cell_type": "markdown",
   "id": "29a004cf",
   "metadata": {},
   "source": [
    "**installations**"
   ]
  },
  {
   "cell_type": "code",
   "execution_count": null,
   "id": "d024ac63",
   "metadata": {},
   "outputs": [],
   "source": [
    "pip install langchain chromadb pandasai"
   ]
  },
  {
   "cell_type": "markdown",
   "id": "15d6b39f",
   "metadata": {},
   "source": [
    "**Loading in the csv**"
   ]
  },
  {
   "cell_type": "code",
   "execution_count": 3,
   "id": "fd18803f",
   "metadata": {},
   "outputs": [],
   "source": [
    "from langchain.document_loaders import CSVLoader\n",
    "\n",
    "loader = CSVLoader(\"cleaned_good_stuff.csv\")\n",
    "documents = loader.load()\n"
   ]
  },
  {
   "cell_type": "markdown",
   "id": "10344d91",
   "metadata": {},
   "source": [
    "**establishing the embedding model**"
   ]
  },
  {
   "cell_type": "code",
   "execution_count": null,
   "id": "d18e0785",
   "metadata": {},
   "outputs": [],
   "source": [
    "from langchain_community.embeddings import OllamaEmbeddings\n",
    "\n",
    "embeddings = OllamaEmbeddings(model='nomic-embed-text')"
   ]
  },
  {
   "cell_type": "markdown",
   "id": "665fa978",
   "metadata": {},
   "source": [
    "**storing the embeddings into a vector database**"
   ]
  },
  {
   "cell_type": "code",
   "execution_count": 5,
   "id": "5994281b",
   "metadata": {},
   "outputs": [],
   "source": [
    "from langchain.vectorstores import Chroma\n",
    "\n",
    "chroma_db = Chroma.from_documents(\n",
    "    documents, embeddings, persist_directory=\"./chroma_db\"\n",
    ")\n",
    "chroma_db.persist()"
   ]
  },
  {
   "cell_type": "markdown",
   "id": "c2c15bcb",
   "metadata": {},
   "source": [
    "**establishing the LLM and its prompt template**"
   ]
  },
  {
   "cell_type": "markdown",
   "id": "c9ed5488",
   "metadata": {},
   "source": [
    "these are some of the prompt templates i have made. Replace the template field with the the text below.\n",
    "\n",
    "\n",
    "**Prompt for CRM:**\n",
    "\n",
    "\"Role: You are a Customer Relations Manager. Identify key details and patterns within the reviews in order to answer the user questions. Given this context: {context}, please directly answer the question: {question}.\",\n",
    "\n",
    "     \n",
    "     \n",
    "**Prompt for RND:**\n",
    "\n",
    "\"Role: You are a Research and Development Specialist. Identify key insights and patterns within the reviews in order to answer the user questions. Given this context: {context}, please directly answer the question: {question}.\",\n",
    "\n",
    "\n",
    "\n",
    "     "
   ]
  },
  {
   "cell_type": "code",
   "execution_count": 32,
   "id": "766299a5",
   "metadata": {},
   "outputs": [],
   "source": [
    "from langchain.llms import Ollama\n",
    "from langchain.prompts import PromptTemplate\n",
    "from langchain.chains import RetrievalQA\n",
    "\n",
    "llm = Ollama(model=\"command-r\")\n",
    "\n",
    "prompt_template = PromptTemplate(\n",
    "    input_variables=[\"context\"],\n",
    "    template=\"Given this context: {context}, please directly answer the question: {question}.\",\n",
    ")\n",
    "\n",
    "qa_chain = RetrievalQA.from_chain_type(\n",
    "    llm,\n",
    "    retriever=chroma_db.as_retriever(search_kwargs={\"k\": 30},),\n",
    "    chain_type_kwargs={\"prompt\": prompt_template},\n",
    ")"
   ]
  },
  {
   "cell_type": "markdown",
   "id": "4ec1fbba",
   "metadata": {},
   "source": [
    "**provides the result in json format**"
   ]
  },
  {
   "cell_type": "code",
   "execution_count": 11,
   "id": "5d0917a1",
   "metadata": {
    "collapsed": true
   },
   "outputs": [
    {
     "name": "stdout",
     "output_type": "stream",
     "text": [
      "{'query': '...', 'result': '...}"
     ]
    }
   ],
   "source": [
    "question = \"what are the top 5 reasons customers are dissatisfied with our products? Give me examples of these reviews from the csv\"\n",
    "result = qa_chain({\"query\": question})\n",
    "print(result)"
   ]
  },
  {
   "cell_type": "markdown",
   "id": "7fbd8832",
   "metadata": {},
   "source": [
    "**provides result in a proper format**"
   ]
  },
  {
   "cell_type": "code",
   "execution_count": 33,
   "id": "7fc5d888",
   "metadata": {},
   "outputs": [
    {
     "name": "stdout",
     "output_type": "stream",
     "text": [
      "Question: from the reviews, how do the consumers know the products do not last as long as advertised?\n",
      "\n",
      "Answer: Some customers report that certain items like the Small Spaces air fresheners only last half as long as expected while others claim the car vent clips last \"a long time.\"\n",
      "Meanwhile, the car air fresheners appear to last longer in situations where the scent isn't constantly being adjusted, with one customer reporting that theirs lasted over two months.\n",
      "For instance, one reviewer states that their air freshener was only half full at purchase which led them to believe it didn't last as long as advertised, however, another customer points out that this is likely due to the oil settling during shipping.\n"
     ]
    }
   ],
   "source": [
    "question = \"from the reviews, how do the consumers know the products do not last as long as advertised?\"\n",
    "result = qa_chain({\"query\": question})\n",
    "\n",
    "# Extracting the result text\n",
    "text = result[\"result\"]\n",
    "\n",
    "# Remove numbering and \"\\n\" characters\n",
    "formatted_text = '\\n'.join([line.split('. ')[1] for line in text.split('\\n') if '. ' in line])\n",
    "\n",
    "# Printing the question and formatted answer\n",
    "print(\"Question:\", result[\"query\"])\n",
    "print()\n",
    "print(\"Answer:\", formatted_text)"
   ]
  },
  {
   "cell_type": "code",
   "execution_count": null,
   "id": "aa8b7c5a",
   "metadata": {},
   "outputs": [],
   "source": []
  },
  {
   "cell_type": "markdown",
   "id": "9a773f2b",
   "metadata": {},
   "source": [
    "**loading in csv into pandas**"
   ]
  },
  {
   "cell_type": "code",
   "execution_count": 8,
   "id": "c3beb44c",
   "metadata": {
    "scrolled": true
   },
   "outputs": [
    {
     "data": {
      "text/html": [
       "<div>\n",
       "<style scoped>\n",
       "    .dataframe tbody tr th:only-of-type {\n",
       "        vertical-align: middle;\n",
       "    }\n",
       "\n",
       "    .dataframe tbody tr th {\n",
       "        vertical-align: top;\n",
       "    }\n",
       "\n",
       "    .dataframe thead th {\n",
       "        text-align: right;\n",
       "    }\n",
       "</style>\n",
       "<table border=\"1\" class=\"dataframe\">\n",
       "  <thead>\n",
       "    <tr style=\"text-align: right;\">\n",
       "      <th></th>\n",
       "      <th>PILLAR</th>\n",
       "      <th>date</th>\n",
       "      <th>text_rating</th>\n",
       "      <th>text_review</th>\n",
       "    </tr>\n",
       "  </thead>\n",
       "  <tbody>\n",
       "    <tr>\n",
       "      <th>0</th>\n",
       "      <td>Car</td>\n",
       "      <td>2018-06-11</td>\n",
       "      <td>3.0</td>\n",
       "      <td>Good price Worked as expected. The scent is lo...</td>\n",
       "    </tr>\n",
       "    <tr>\n",
       "      <th>1</th>\n",
       "      <td>Car</td>\n",
       "      <td>2018-11-13</td>\n",
       "      <td>1.0</td>\n",
       "      <td> Air Freshener, Car Vent, Do Not Buy Th...</td>\n",
       "    </tr>\n",
       "    <tr>\n",
       "      <th>2</th>\n",
       "      <td>Car</td>\n",
       "      <td>2018-11-14</td>\n",
       "      <td>5.0</td>\n",
       "      <td>Great product Good and pleasant smell keep my ...</td>\n",
       "    </tr>\n",
       "    <tr>\n",
       "      <th>3</th>\n",
       "      <td>Car</td>\n",
       "      <td>2018-11-14</td>\n",
       "      <td>4.0</td>\n",
       "      <td>Great for small spaces ie car I smoke cigarett...</td>\n",
       "    </tr>\n",
       "    <tr>\n",
       "      <th>4</th>\n",
       "      <td>Car</td>\n",
       "      <td>2018-11-25</td>\n",
       "      <td>5.0</td>\n",
       "      <td>Lasts long and not too overpowering On the fir...</td>\n",
       "    </tr>\n",
       "  </tbody>\n",
       "</table>\n",
       "</div>"
      ],
      "text/plain": [
       "  PILLAR         date  text_rating  \\\n",
       "0    Car      2018-06-11          3.0   \n",
       "1    Car      2018-11-13          1.0   \n",
       "2    Car      2018-11-14          5.0   \n",
       "3    Car      2018-11-14          4.0   \n",
       "4    Car      2018-11-25          5.0   \n",
       "\n",
       "                                         text_review  \n",
       "0  Good price Worked as expected. The scent is lo...  \n",
       "1   Air Freshener, Car Vent, Do Not Buy Th...  \n",
       "2  Great product Good and pleasant smell keep my ...  \n",
       "3  Great for small spaces ie car I smoke cigarett...  \n",
       "4  Lasts long and not too overpowering On the fir...  "
      ]
     },
     "execution_count": 8,
     "metadata": {},
     "output_type": "execute_result"
    }
   ],
   "source": [
    "import pandas as pd\n",
    "data = pd.read_csv(\"cleaned_good_stuff.csv\")\n",
    "data.head()"
   ]
  },
  {
   "cell_type": "markdown",
   "id": "c773228e",
   "metadata": {},
   "source": [
    "**establishing model**"
   ]
  },
  {
   "cell_type": "code",
   "execution_count": 9,
   "id": "8fb77ee5",
   "metadata": {},
   "outputs": [],
   "source": [
    "from langchain_community.llms.ollama import Ollama\n",
    "llm = Ollama(model=\"command-r\")"
   ]
  },
  {
   "cell_type": "code",
   "execution_count": 10,
   "id": "a8ae0b9a",
   "metadata": {},
   "outputs": [],
   "source": [
    "from pandasai import SmartDataframe\n",
    "df = SmartDataframe(data, config={\"llm\": llm})"
   ]
  },
  {
   "cell_type": "markdown",
   "id": "4ef0306c",
   "metadata": {},
   "source": [
    "**querying the model inorder to generate analytics**"
   ]
  },
  {
   "cell_type": "code",
   "execution_count": 32,
   "id": "617d7cc9",
   "metadata": {},
   "outputs": [
    {
     "data": {
      "image/png": "[encoded data removed]",
      "text/plain": [
       "<PIL.PngImagePlugin.PngImageFile image mode=RGBA size=640x480>"
      ]
     },
     "metadata": {},
     "output_type": "display_data"
    },
    {
     "data": {
      "text/plain": [
       "'/workspace/nemo/successful/last3/exports/charts/temp_chart.png'"
      ]
     },
     "execution_count": 32,
     "metadata": {},
     "output_type": "execute_result"
    },
    {
     "data": {
      "image/png": "[encoded data removed]",
      "text/plain": [
       "<Figure size 640x480 with 1 Axes>"
      ]
     },
     "metadata": {},
     "output_type": "display_data"
    }
   ],
   "source": [
    "df.chat('distribution of text_rating for 2019')"
   ]
  },
  {
   "cell_type": "code",
   "execution_count": null,
   "id": "8d14c569",
   "metadata": {},
   "outputs": [],
   "source": []
  },
  {
   "cell_type": "code",
   "execution_count": null,
   "id": "6b3bbe06",
   "metadata": {},
   "outputs": [],
   "source": []
  },
  {
   "cell_type": "code",
   "execution_count": null,
   "id": "d095228c",
   "metadata": {},
   "outputs": [],
   "source": []
  },
  {
   "cell_type": "code",
   "execution_count": null,
   "id": "ca5faccc",
   "metadata": {},
   "outputs": [],
   "source": []
  },
  {
   "cell_type": "code",
   "execution_count": null,
   "id": "3214af75",
   "metadata": {},
   "outputs": [],
   "source": []
  },
  {
   "cell_type": "code",
   "execution_count": null,
   "id": "7016af55",
   "metadata": {},
   "outputs": [],
   "source": []
  },
  {
   "cell_type": "code",
   "execution_count": null,
   "id": "6b90c320",
   "metadata": {},
   "outputs": [],
   "source": []
  },
  {
   "cell_type": "code",
   "execution_count": null,
   "id": "5770fcae",
   "metadata": {},
   "outputs": [],
   "source": []
  },
  {
   "cell_type": "code",
   "execution_count": null,
   "id": "b23d4fd8",
   "metadata": {},
   "outputs": [],
   "source": []
  },
  {
   "cell_type": "code",
   "execution_count": null,
   "id": "3221a549",
   "metadata": {},
   "outputs": [],
   "source": []
  },
  {
   "cell_type": "code",
   "execution_count": null,
   "id": "a6fc55b7",
   "metadata": {},
   "outputs": [],
   "source": []
  },
  {
   "cell_type": "code",
   "execution_count": null,
   "id": "a116792b",
   "metadata": {},
   "outputs": [],
   "source": []
  },
  {
   "cell_type": "code",
   "execution_count": null,
   "id": "e1ae639c",
   "metadata": {},
   "outputs": [],
   "source": []
  },
  {
   "cell_type": "code",
   "execution_count": null,
   "id": "edaa7bb3",
   "metadata": {},
   "outputs": [],
   "source": []
  }
 ],
 "metadata": {
  "kernelspec": {
   "display_name": "Python 3 (ipykernel)",
   "language": "python",
   "name": "python3"
  },
  "language_info": {
   "codemirror_mode": {
    "name": "ipython",
    "version": 3
   },
   "file_extension": ".py",
   "mimetype": "text/x-python",
   "name": "python",
   "nbconvert_exporter": "python",
   "pygments_lexer": "ipython3",
   "version": "3.10.12"
  }
 },
 "nbformat": 4,
 "nbformat_minor": 5
}
